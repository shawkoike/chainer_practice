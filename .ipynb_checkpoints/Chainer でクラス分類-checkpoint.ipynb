{
 "cells": [
  {
   "cell_type": "markdown",
   "metadata": {},
   "source": [
    "### Chainer でクラス分類"
   ]
  },
  {
   "cell_type": "markdown",
   "metadata": {},
   "source": [
    "### データの読み込み"
   ]
  },
  {
   "cell_type": "code",
   "execution_count": 1,
   "metadata": {},
   "outputs": [],
   "source": [
    "import pandas as pd"
   ]
  },
  {
   "cell_type": "code",
   "execution_count": 2,
   "metadata": {},
   "outputs": [],
   "source": [
    "df = pd.read_csv(\"wine-class.csv\")"
   ]
  },
  {
   "cell_type": "code",
   "execution_count": 3,
   "metadata": {},
   "outputs": [
    {
     "data": {
      "text/html": [
       "<div>\n",
       "<style scoped>\n",
       "    .dataframe tbody tr th:only-of-type {\n",
       "        vertical-align: middle;\n",
       "    }\n",
       "\n",
       "    .dataframe tbody tr th {\n",
       "        vertical-align: top;\n",
       "    }\n",
       "\n",
       "    .dataframe thead th {\n",
       "        text-align: right;\n",
       "    }\n",
       "</style>\n",
       "<table border=\"1\" class=\"dataframe\">\n",
       "  <thead>\n",
       "    <tr style=\"text-align: right;\">\n",
       "      <th></th>\n",
       "      <th>Class</th>\n",
       "      <th>Alcohol</th>\n",
       "      <th>Ash</th>\n",
       "      <th>Alcalinity of ash</th>\n",
       "      <th>Magnesium</th>\n",
       "      <th>Total phenols</th>\n",
       "      <th>Flavanoids</th>\n",
       "      <th>Nonflavanoid phenols</th>\n",
       "      <th>Color intensity</th>\n",
       "      <th>Hue</th>\n",
       "      <th>Proline</th>\n",
       "    </tr>\n",
       "  </thead>\n",
       "  <tbody>\n",
       "    <tr>\n",
       "      <th>0</th>\n",
       "      <td>1</td>\n",
       "      <td>14.23</td>\n",
       "      <td>2.43</td>\n",
       "      <td>15.6</td>\n",
       "      <td>127</td>\n",
       "      <td>2.80</td>\n",
       "      <td>3.06</td>\n",
       "      <td>0.28</td>\n",
       "      <td>5.64</td>\n",
       "      <td>1.04</td>\n",
       "      <td>1065</td>\n",
       "    </tr>\n",
       "    <tr>\n",
       "      <th>1</th>\n",
       "      <td>1</td>\n",
       "      <td>13.20</td>\n",
       "      <td>2.14</td>\n",
       "      <td>11.2</td>\n",
       "      <td>100</td>\n",
       "      <td>2.65</td>\n",
       "      <td>2.76</td>\n",
       "      <td>0.26</td>\n",
       "      <td>4.38</td>\n",
       "      <td>1.05</td>\n",
       "      <td>1050</td>\n",
       "    </tr>\n",
       "    <tr>\n",
       "      <th>2</th>\n",
       "      <td>1</td>\n",
       "      <td>13.16</td>\n",
       "      <td>2.67</td>\n",
       "      <td>18.6</td>\n",
       "      <td>101</td>\n",
       "      <td>2.80</td>\n",
       "      <td>3.24</td>\n",
       "      <td>0.30</td>\n",
       "      <td>5.68</td>\n",
       "      <td>1.03</td>\n",
       "      <td>1185</td>\n",
       "    </tr>\n",
       "    <tr>\n",
       "      <th>3</th>\n",
       "      <td>1</td>\n",
       "      <td>14.37</td>\n",
       "      <td>2.50</td>\n",
       "      <td>16.8</td>\n",
       "      <td>113</td>\n",
       "      <td>3.85</td>\n",
       "      <td>3.49</td>\n",
       "      <td>0.24</td>\n",
       "      <td>7.80</td>\n",
       "      <td>0.86</td>\n",
       "      <td>1480</td>\n",
       "    </tr>\n",
       "    <tr>\n",
       "      <th>4</th>\n",
       "      <td>1</td>\n",
       "      <td>13.24</td>\n",
       "      <td>2.87</td>\n",
       "      <td>21.0</td>\n",
       "      <td>118</td>\n",
       "      <td>2.80</td>\n",
       "      <td>2.69</td>\n",
       "      <td>0.39</td>\n",
       "      <td>4.32</td>\n",
       "      <td>1.04</td>\n",
       "      <td>735</td>\n",
       "    </tr>\n",
       "  </tbody>\n",
       "</table>\n",
       "</div>"
      ],
      "text/plain": [
       "   Class  Alcohol   Ash  Alcalinity of ash  Magnesium  Total phenols  \\\n",
       "0      1    14.23  2.43               15.6        127           2.80   \n",
       "1      1    13.20  2.14               11.2        100           2.65   \n",
       "2      1    13.16  2.67               18.6        101           2.80   \n",
       "3      1    14.37  2.50               16.8        113           3.85   \n",
       "4      1    13.24  2.87               21.0        118           2.80   \n",
       "\n",
       "   Flavanoids  Nonflavanoid phenols  Color intensity   Hue  Proline  \n",
       "0        3.06                  0.28             5.64  1.04     1065  \n",
       "1        2.76                  0.26             4.38  1.05     1050  \n",
       "2        3.24                  0.30             5.68  1.03     1185  \n",
       "3        3.49                  0.24             7.80  0.86     1480  \n",
       "4        2.69                  0.39             4.32  1.04      735  "
      ]
     },
     "execution_count": 3,
     "metadata": {},
     "output_type": "execute_result"
    }
   ],
   "source": [
    "df.head()"
   ]
  },
  {
   "cell_type": "markdown",
   "metadata": {},
   "source": [
    " ### 入力変数と教師データ（出力変数）に切り分ける"
   ]
  },
  {
   "cell_type": "code",
   "execution_count": 4,
   "metadata": {},
   "outputs": [],
   "source": [
    "# df.loc[行, 列]\n",
    "t = df.iloc[:, 0].values -1 # 1〜3 のラベルを 0〜2 にできる\n",
    "x = df.iloc[:, 1:].values"
   ]
  },
  {
   "cell_type": "code",
   "execution_count": 5,
   "metadata": {},
   "outputs": [
    {
     "data": {
      "text/plain": [
       "dtype('int64')"
      ]
     },
     "execution_count": 5,
     "metadata": {},
     "output_type": "execute_result"
    }
   ],
   "source": [
    "t.dtype"
   ]
  },
  {
   "cell_type": "code",
   "execution_count": 6,
   "metadata": {},
   "outputs": [
    {
     "data": {
      "text/plain": [
       "dtype('float64')"
      ]
     },
     "execution_count": 6,
     "metadata": {},
     "output_type": "execute_result"
    }
   ],
   "source": [
    "x.dtype"
   ]
  },
  {
   "cell_type": "code",
   "execution_count": 7,
   "metadata": {},
   "outputs": [],
   "source": [
    "# chainer で使うために 32 ビットに変換する\n",
    "t = t.astype(\"i\")\n",
    "x = x.astype(\"f\")"
   ]
  },
  {
   "cell_type": "code",
   "execution_count": 8,
   "metadata": {},
   "outputs": [
    {
     "data": {
      "text/plain": [
       "dtype('int32')"
      ]
     },
     "execution_count": 8,
     "metadata": {},
     "output_type": "execute_result"
    }
   ],
   "source": [
    "t.dtype"
   ]
  },
  {
   "cell_type": "code",
   "execution_count": 9,
   "metadata": {},
   "outputs": [
    {
     "data": {
      "text/plain": [
       "dtype('float32')"
      ]
     },
     "execution_count": 9,
     "metadata": {},
     "output_type": "execute_result"
    }
   ],
   "source": [
    "x.dtype"
   ]
  },
  {
   "cell_type": "markdown",
   "metadata": {},
   "source": [
    "### ニューラルネットワークのモデルを定義"
   ]
  },
  {
   "cell_type": "code",
   "execution_count": 11,
   "metadata": {},
   "outputs": [],
   "source": [
    "import chainer\n",
    "import chainer.functions as F\n",
    "import chainer.links as L\n",
    "import numpy as np"
   ]
  },
  {
   "cell_type": "code",
   "execution_count": 157,
   "metadata": {},
   "outputs": [],
   "source": [
    "class NN(chainer.Chain):\n",
    "\n",
    "    # モデルの構造を明示\n",
    "    def __init__(self, n_mid_units = 5, n_out = 3):\n",
    "        super().__init__()\n",
    "        with self.init_scope():\n",
    "            self.fc1 = L.Linear(None, n_mid_units) # 第一引数を None にすると自動で入力の数を把握してくれる。\n",
    "            self.fc2 = L.Linear(None, n_out)\n",
    "            # Batch Normalization\n",
    "            self.bn = L.BatchNormalization(10) # 入力層の数\n",
    "\n",
    "    # 順伝播\n",
    "    def __call__(self, x):\n",
    "        h = self.bn(x)\n",
    "        h = self.fc1(h)\n",
    "        h = F.relu(h)\n",
    "        h = self.fc2(h)\n",
    "        return h # h => hidden_layer"
   ]
  },
  {
   "cell_type": "code",
   "execution_count": 158,
   "metadata": {},
   "outputs": [],
   "source": [
    "np.random.seed(1)\n",
    "# インスタンス化\n",
    "nn = NN()\n",
    "model = L.Classifier(nn)"
   ]
  },
  {
   "cell_type": "markdown",
   "metadata": {},
   "source": [
    "### Chainer で使用するデータセットの形式"
   ]
  },
  {
   "cell_type": "code",
   "execution_count": 159,
   "metadata": {},
   "outputs": [],
   "source": [
    "dataset = list(zip(x, t))"
   ]
  },
  {
   "cell_type": "markdown",
   "metadata": {},
   "source": [
    "### 訓練データと検証データに分割"
   ]
  },
  {
   "cell_type": "code",
   "execution_count": 160,
   "metadata": {},
   "outputs": [],
   "source": [
    "# 訓練データを７割、検証データを３割\n",
    "n_train = int(len(dataset) * 0.7)\n",
    "train, test = chainer.datasets.split_dataset_random(dataset, n_train, seed=1)"
   ]
  },
  {
   "cell_type": "markdown",
   "metadata": {},
   "source": [
    "### 学習するための設定\n",
    "\n",
    "#### optimizer の設定"
   ]
  },
  {
   "cell_type": "code",
   "execution_count": 161,
   "metadata": {},
   "outputs": [],
   "source": [
    "optimizer = chainer.optimizers.SGD()"
   ]
  },
  {
   "cell_type": "code",
   "execution_count": 162,
   "metadata": {},
   "outputs": [
    {
     "data": {
      "text/plain": [
       "<chainer.optimizers.sgd.SGD at 0x111887080>"
      ]
     },
     "execution_count": 162,
     "metadata": {},
     "output_type": "execute_result"
    }
   ],
   "source": [
    "optimizer.setup(model)"
   ]
  },
  {
   "cell_type": "markdown",
   "metadata": {},
   "source": [
    "#### Iterator の設定"
   ]
  },
  {
   "cell_type": "code",
   "execution_count": 163,
   "metadata": {},
   "outputs": [],
   "source": [
    "batchsize = 10\n",
    "train_iter = chainer.iterators.SerialIterator(train, batchsize)\n",
    "test_iter = chainer.iterators.SerialIterator(test, batchsize, repeat=False, shuffle=False)"
   ]
  },
  {
   "cell_type": "markdown",
   "metadata": {},
   "source": [
    "#### updater の設定\n",
    "- CPU：device=-1\n",
    "- GPU：device=0"
   ]
  },
  {
   "cell_type": "code",
   "execution_count": 164,
   "metadata": {},
   "outputs": [],
   "source": [
    "from chainer import training"
   ]
  },
  {
   "cell_type": "code",
   "execution_count": 165,
   "metadata": {},
   "outputs": [],
   "source": [
    "updater = training.StandardUpdater(train_iter, optimizer, device=-1)"
   ]
  },
  {
   "cell_type": "markdown",
   "metadata": {},
   "source": [
    "#### Trainer と Extensions の設定"
   ]
  },
  {
   "cell_type": "code",
   "execution_count": 166,
   "metadata": {},
   "outputs": [],
   "source": [
    "from chainer.training import extensions"
   ]
  },
  {
   "cell_type": "code",
   "execution_count": 167,
   "metadata": {},
   "outputs": [],
   "source": [
    "# エポックの数\n",
    "epoch = 50 # 50 回学習を繰り返す"
   ]
  },
  {
   "cell_type": "code",
   "execution_count": 168,
   "metadata": {},
   "outputs": [],
   "source": [
    "# trainer の宣言\n",
    "trainer = training.Trainer(updater, (epoch, 'epoch'), out = 'result/wine')\n",
    "\n",
    "# 検証データで評価\n",
    "trainer.extend(extensions.Evaluator(test_iter, model, device=-1))\n",
    "\n",
    "trainer.extend(extensions.LogReport(trigger=(1, 'epoch')))\n",
    "# 1エポックごとに trainデータに対する loss と testデータに対する loss\n",
    "trainer.extend(extensions.PrintReport(['epoch', 'main/accuracy', 'validation/main/accuracy', 'main/loss', 'validation/main/loss', 'elapsed_time']), trigger=(1, 'epoch'))"
   ]
  },
  {
   "cell_type": "markdown",
   "metadata": {},
   "source": [
    "### 学習の実行"
   ]
  },
  {
   "cell_type": "code",
   "execution_count": 169,
   "metadata": {
    "scrolled": true
   },
   "outputs": [
    {
     "name": "stdout",
     "output_type": "stream",
     "text": [
      "epoch       main/accuracy  validation/main/accuracy  main/loss   validation/main/loss  elapsed_time\n",
      "\u001b[J1           0.415385       0.358333                  1.11046     1.30603               0.0637798     \n",
      "\u001b[J2           0.475          0.441667                  1.02261     1.03827               0.12706       \n",
      "\u001b[J3           0.584615       0.591667                  0.923437    0.928491              0.191289      \n",
      "\u001b[J4           0.608333       0.625                     0.863558    0.870106              0.25229       \n",
      "\u001b[J5           0.641667       0.625                     0.792922    0.822193              0.311799      \n",
      "\u001b[J6           0.7            0.625                     0.750538    0.773367              0.37591       \n",
      "\u001b[J7           0.7            0.625                     0.684348    0.730491              0.432245      \n",
      "\u001b[J8           0.738462       0.625                     0.679364    0.701627              0.50761       \n",
      "\u001b[J9           0.758333       0.641667                  0.638621    0.674931              0.563226      \n",
      "\u001b[J10          0.758333       0.7                       0.615446    0.653362              0.614196      \n",
      "\u001b[J11          0.776923       0.733333                  0.572222    0.624982              0.687157      \n",
      "\u001b[J12          0.75           0.75                      0.607097    0.607436              0.786012      \n",
      "\u001b[J13          0.846154       0.75                      0.523911    0.599481              0.860053      \n",
      "\u001b[J14          0.85           0.808333                  0.488484    0.572354              0.937948      \n",
      "\u001b[J15          0.816667       0.808333                  0.513408    0.550393              1.02115       \n",
      "\u001b[J16          0.830769       0.808333                  0.500965    0.533118              1.08884       \n",
      "\u001b[J17          0.875          0.808333                  0.47789     0.525284              1.16445       \n",
      "\u001b[J18          0.830769       0.808333                  0.504086    0.518616              1.24875       \n",
      "\u001b[J19          0.883333       0.841667                  0.449281    0.491672              1.33068       \n",
      "\u001b[J20          0.875          0.841667                  0.424567    0.478424              1.39373       \n",
      "\u001b[J21          0.884615       0.9                       0.422921    0.465489              1.4524        \n",
      "\u001b[J22          0.875          0.858333                  0.453667    0.448152              1.52356       \n",
      "\u001b[J23          0.9            0.9                       0.428326    0.431823              1.5868        \n",
      "\u001b[J24          0.908333       0.9                       0.40871     0.424032              1.66425       \n",
      "\u001b[J25          0.883333       0.9                       0.430841    0.406606              1.7383        \n",
      "\u001b[J26          0.876923       0.916667                  0.386997    0.394012              1.81057       \n",
      "\u001b[J27          0.933333       0.9                       0.360826    0.378602              1.87923       \n",
      "\u001b[J28          0.892308       0.95                      0.382356    0.355139              1.95871       \n",
      "\u001b[J29          0.95           0.933333                  0.308721    0.347466              2.04583       \n",
      "\u001b[J30          0.958333       0.966667                  0.300327    0.337911              2.1216        \n",
      "\u001b[J31          0.892308       0.966667                  0.395269    0.311494              2.21077       \n",
      "\u001b[J32          0.925          0.966667                  0.320068    0.30619               2.28599       \n",
      "\u001b[J33          0.946154       0.95                      0.296106    0.296867              2.36073       \n",
      "\u001b[J34          0.975          0.95                      0.266258    0.290828              2.43008       \n",
      "\u001b[J35          0.95           0.95                      0.266582    0.276439              2.51549       \n",
      "\u001b[J36          0.961538       0.95                      0.210701    0.266854              2.60706       \n",
      "\u001b[J37          0.925          0.983333                  0.265659    0.256083              2.68873       \n",
      "\u001b[J38          0.907692       0.95                      0.295625    0.239076              2.76356       \n",
      "\u001b[J39          0.925          0.966667                  0.269725    0.240365              2.83943       \n",
      "\u001b[J40          0.9            0.983333                  0.337392    0.228604              2.91386       \n",
      "\u001b[J41          0.946154       0.983333                  0.22455     0.22465               3.00316       \n",
      "\u001b[J42          0.925          0.966667                  0.27209     0.218463              3.07515       \n",
      "\u001b[J43          0.923077       0.966667                  0.312509    0.209585              3.14213       \n",
      "\u001b[J44          0.933333       0.966667                  0.234991    0.203467              3.23922       \n",
      "\u001b[J45          0.958333       0.983333                  0.231896    0.195847              3.31149       \n",
      "\u001b[J46          0.938462       0.983333                  0.263133    0.191358              3.37303       \n",
      "\u001b[J47          0.991667       0.983333                  0.152472    0.188722              3.4279        \n",
      "\u001b[J48          0.961538       0.966667                  0.210073    0.185397              3.49007       \n",
      "\u001b[J49          0.966667       0.983333                  0.181955    0.174649              3.55213       \n",
      "\u001b[J50          0.966667       0.966667                  0.170771    0.173416              3.6096        \n"
     ]
    }
   ],
   "source": [
    "trainer.run()"
   ]
  },
  {
   "cell_type": "markdown",
   "metadata": {},
   "source": [
    "### 結果の確認"
   ]
  },
  {
   "cell_type": "code",
   "execution_count": 170,
   "metadata": {},
   "outputs": [],
   "source": [
    "import json"
   ]
  },
  {
   "cell_type": "code",
   "execution_count": 171,
   "metadata": {},
   "outputs": [],
   "source": [
    "with open('result/wine/log') as f:\n",
    "    logs = json.load(f)"
   ]
  },
  {
   "cell_type": "code",
   "execution_count": 172,
   "metadata": {},
   "outputs": [],
   "source": [
    "results = pd.DataFrame(logs)"
   ]
  },
  {
   "cell_type": "code",
   "execution_count": 173,
   "metadata": {},
   "outputs": [
    {
     "data": {
      "text/html": [
       "<div>\n",
       "<style scoped>\n",
       "    .dataframe tbody tr th:only-of-type {\n",
       "        vertical-align: middle;\n",
       "    }\n",
       "\n",
       "    .dataframe tbody tr th {\n",
       "        vertical-align: top;\n",
       "    }\n",
       "\n",
       "    .dataframe thead th {\n",
       "        text-align: right;\n",
       "    }\n",
       "</style>\n",
       "<table border=\"1\" class=\"dataframe\">\n",
       "  <thead>\n",
       "    <tr style=\"text-align: right;\">\n",
       "      <th></th>\n",
       "      <th>elapsed_time</th>\n",
       "      <th>epoch</th>\n",
       "      <th>iteration</th>\n",
       "      <th>main/accuracy</th>\n",
       "      <th>main/loss</th>\n",
       "      <th>validation/main/accuracy</th>\n",
       "      <th>validation/main/loss</th>\n",
       "    </tr>\n",
       "  </thead>\n",
       "  <tbody>\n",
       "    <tr>\n",
       "      <th>0</th>\n",
       "      <td>0.063780</td>\n",
       "      <td>1</td>\n",
       "      <td>13</td>\n",
       "      <td>0.415385</td>\n",
       "      <td>1.110462</td>\n",
       "      <td>0.358333</td>\n",
       "      <td>1.306030</td>\n",
       "    </tr>\n",
       "    <tr>\n",
       "      <th>1</th>\n",
       "      <td>0.127060</td>\n",
       "      <td>2</td>\n",
       "      <td>25</td>\n",
       "      <td>0.475000</td>\n",
       "      <td>1.022615</td>\n",
       "      <td>0.441667</td>\n",
       "      <td>1.038274</td>\n",
       "    </tr>\n",
       "    <tr>\n",
       "      <th>2</th>\n",
       "      <td>0.191289</td>\n",
       "      <td>3</td>\n",
       "      <td>38</td>\n",
       "      <td>0.584615</td>\n",
       "      <td>0.923437</td>\n",
       "      <td>0.591667</td>\n",
       "      <td>0.928491</td>\n",
       "    </tr>\n",
       "    <tr>\n",
       "      <th>3</th>\n",
       "      <td>0.252290</td>\n",
       "      <td>4</td>\n",
       "      <td>50</td>\n",
       "      <td>0.608333</td>\n",
       "      <td>0.863558</td>\n",
       "      <td>0.625000</td>\n",
       "      <td>0.870106</td>\n",
       "    </tr>\n",
       "    <tr>\n",
       "      <th>4</th>\n",
       "      <td>0.311799</td>\n",
       "      <td>5</td>\n",
       "      <td>62</td>\n",
       "      <td>0.641667</td>\n",
       "      <td>0.792922</td>\n",
       "      <td>0.625000</td>\n",
       "      <td>0.822193</td>\n",
       "    </tr>\n",
       "  </tbody>\n",
       "</table>\n",
       "</div>"
      ],
      "text/plain": [
       "   elapsed_time  epoch  iteration  main/accuracy  main/loss  \\\n",
       "0      0.063780      1         13       0.415385   1.110462   \n",
       "1      0.127060      2         25       0.475000   1.022615   \n",
       "2      0.191289      3         38       0.584615   0.923437   \n",
       "3      0.252290      4         50       0.608333   0.863558   \n",
       "4      0.311799      5         62       0.641667   0.792922   \n",
       "\n",
       "   validation/main/accuracy  validation/main/loss  \n",
       "0                  0.358333              1.306030  \n",
       "1                  0.441667              1.038274  \n",
       "2                  0.591667              0.928491  \n",
       "3                  0.625000              0.870106  \n",
       "4                  0.625000              0.822193  "
      ]
     },
     "execution_count": 173,
     "metadata": {},
     "output_type": "execute_result"
    }
   ],
   "source": [
    "results.head()"
   ]
  },
  {
   "cell_type": "code",
   "execution_count": 174,
   "metadata": {
    "scrolled": true
   },
   "outputs": [
    {
     "data": {
      "text/plain": [
       "<matplotlib.axes._subplots.AxesSubplot at 0x111773ac8>"
      ]
     },
     "execution_count": 174,
     "metadata": {},
     "output_type": "execute_result"
    },
    {
     "data": {
      "image/png": "[encoded data removed]",
      "text/plain": [
       "<Figure size 432x288 with 1 Axes>"
      ]
     },
     "metadata": {
      "needs_background": "light"
     },
     "output_type": "display_data"
    }
   ],
   "source": [
    "%matplotlib inline\n",
    "\n",
    "\n",
    "results[['main/accuracy', 'validation/main/accuracy']].plot()"
   ]
  },
  {
   "cell_type": "code",
   "execution_count": 175,
   "metadata": {},
   "outputs": [
    {
     "data": {
      "text/plain": [
       "<matplotlib.axes._subplots.AxesSubplot at 0x111753358>"
      ]
     },
     "execution_count": 175,
     "metadata": {},
     "output_type": "execute_result"
    },
    {
     "data": {
      "image/png": "[encoded data removed]",
      "text/plain": [
       "<Figure size 432x288 with 1 Axes>"
      ]
     },
     "metadata": {
      "needs_background": "light"
     },
     "output_type": "display_data"
    }
   ],
   "source": [
    "results[['main/loss', 'validation/main/loss']].plot()"
   ]
  },
  {
   "cell_type": "markdown",
   "metadata": {},
   "source": [
    "### 学習済みモデルの保存"
   ]
  },
  {
   "cell_type": "code",
   "execution_count": 176,
   "metadata": {},
   "outputs": [],
   "source": [
    "chainer.serializers.save_npz('models/wine.npz', model)"
   ]
  },
  {
   "cell_type": "markdown",
   "metadata": {},
   "source": [
    "### 学習済みモデルを使用した推論"
   ]
  },
  {
   "cell_type": "code",
   "execution_count": 178,
   "metadata": {},
   "outputs": [],
   "source": [
    "# モデルのロード\n",
    "# モデルの構造を明示\n",
    "model = L.Classifier(NN())\n",
    "chainer.serializers.load_npz('models/wine.npz', model)"
   ]
  },
  {
   "cell_type": "code",
   "execution_count": 188,
   "metadata": {},
   "outputs": [
    {
     "data": {
      "text/plain": [
       "(10,)"
      ]
     },
     "execution_count": 188,
     "metadata": {},
     "output_type": "execute_result"
    }
   ],
   "source": [
    "# 予測値の計算\n",
    "x_new = x[0]\n",
    "x_new.shape"
   ]
  },
  {
   "cell_type": "code",
   "execution_count": 189,
   "metadata": {},
   "outputs": [
    {
     "data": {
      "text/plain": [
       "(1, 10)"
      ]
     },
     "execution_count": 189,
     "metadata": {},
     "output_type": "execute_result"
    }
   ],
   "source": [
    "# （バッチサイズ, 入力変数の数）という形式でなければいけない\n",
    "x_new = x_new[np.newaxis]\n",
    "x_new.shape"
   ]
  },
  {
   "cell_type": "code",
   "execution_count": 194,
   "metadata": {},
   "outputs": [
    {
     "data": {
      "text/plain": [
       "array([[0.2329189 , 0.49134055, 0.27574053]], dtype=float32)"
      ]
     },
     "execution_count": 194,
     "metadata": {},
     "output_type": "execute_result"
    }
   ],
   "source": [
    "# 予測値の計算\n",
    "y = model.predictor(x_new)\n",
    "y = F.softmax(y)\n",
    "y.array"
   ]
  },
  {
   "cell_type": "code",
   "execution_count": 195,
   "metadata": {},
   "outputs": [
    {
     "data": {
      "text/plain": [
       "1"
      ]
     },
     "execution_count": 195,
     "metadata": {},
     "output_type": "execute_result"
    }
   ],
   "source": [
    "np.argmax(y.array)"
   ]
  },
  {
   "cell_type": "code",
   "execution_count": null,
   "metadata": {},
   "outputs": [],
   "source": []
  }
 ],
 "metadata": {
  "kernelspec": {
   "display_name": "Python 3",
   "language": "python",
   "name": "python3"
  },
  "language_info": {
   "codemirror_mode": {
    "name": "ipython",
    "version": 3
   },
   "file_extension": ".py",
   "mimetype": "text/x-python",
   "name": "python",
   "nbconvert_exporter": "python",
   "pygments_lexer": "ipython3",
   "version": "3.7.2"
  }
 },
 "nbformat": 4,
 "nbformat_minor": 2
}
